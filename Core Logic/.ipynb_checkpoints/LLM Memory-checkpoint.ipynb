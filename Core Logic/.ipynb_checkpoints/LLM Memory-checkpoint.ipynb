{
 "cells": [
  {
   "cell_type": "markdown",
   "id": "1d7856ab-f4be-47cb-93a9-d70d8b2080d1",
   "metadata": {},
   "source": [
    "# Downloads"
   ]
  },
  {
   "cell_type": "code",
   "execution_count": 10,
   "id": "fd5b8913-441e-4ba8-a4fb-c3f2047bd7f4",
   "metadata": {},
   "outputs": [],
   "source": [
    "#!pip install langchain langchain_community langchain_huggingface faiss-cpu\n",
    "#!pip install sentence-transformers\n",
    "#!pip install hf_xet"
   ]
  },
  {
   "cell_type": "markdown",
   "id": "3c9397ab-e29c-4070-8cb7-6c47bc4ed9bb",
   "metadata": {},
   "source": [
    "# Imports"
   ]
  },
  {
   "cell_type": "code",
   "execution_count": 26,
   "id": "1628d8bd-2250-4036-82ee-55904edb0abd",
   "metadata": {},
   "outputs": [],
   "source": [
    "import pandas as pd\n",
    "import os\n",
    "from langchain_core.documents import Document\n",
    "from langchain.text_splitter import RecursiveCharacterTextSplitter\n",
    "from langchain_huggingface import HuggingFaceEmbeddings\n",
    "from langchain_community.vectorstores import FAISS"
   ]
  },
  {
   "cell_type": "markdown",
   "id": "ac01ef8d-1823-4994-a5d3-cd095ae401ac",
   "metadata": {},
   "source": [
    "# Loading Data"
   ]
  },
  {
   "cell_type": "code",
   "execution_count": 12,
   "id": "f4bce899-3e11-496d-a550-fd100fd3eedf",
   "metadata": {},
   "outputs": [
    {
     "name": "stdout",
     "output_type": "stream",
     "text": [
      "Loaded Chapter and chapter section main objectives.csv into dataframe 'Chapter and chapter section main objectives'\n",
      "Loaded Chapter information.csv into dataframe 'Chapter information'\n",
      "Loaded Chapter section walkthrough with mission tips and strategy and chapter section images.csv into dataframe 'Chapter section walkthrough with mission tips and strategy and chapter section images'\n",
      "Loaded Character Information.csv into dataframe 'Character Information'\n",
      "Loaded Enemy information.csv into dataframe 'Enemy information'\n",
      "Loaded Safecodes Information.csv into dataframe 'Safecodes Information'\n",
      "Loaded Trophy Information.csv into dataframe 'Trophy Information'\n"
     ]
    }
   ],
   "source": [
    "csv_files = [f for f in os.listdir('../Cleaned Data/') if f.endswith('.csv')]\n",
    "dataframes = {}\n",
    "\n",
    "for csv_file in csv_files:\n",
    "    file_path = os.path.join('../Cleaned Data/', csv_file)\n",
    "    df_name = os.path.splitext(csv_file)[0]\n",
    "    try:\n",
    "        dataframes[df_name] = pd.read_csv(file_path)\n",
    "        print(f\"Loaded {csv_file} into dataframe '{df_name}'\")\n",
    "    except Exception as e:\n",
    "        print(f\"Error loading {csv_file}: {e}\")"
   ]
  },
  {
   "cell_type": "markdown",
   "id": "02489044-f8be-4401-a92e-5a41f28663c1",
   "metadata": {},
   "source": [
    "# Creating Documents"
   ]
  },
  {
   "cell_type": "code",
   "execution_count": 13,
   "id": "d3df78b6-29d4-462f-9b23-a1dba83bd3be",
   "metadata": {},
   "outputs": [
    {
     "name": "stdout",
     "output_type": "stream",
     "text": [
      "Created 175 documents.\n"
     ]
    }
   ],
   "source": [
    "documents = []\n",
    "for df_name, df in dataframes.items():\n",
    "    for index, row in df.iterrows():\n",
    "        content = f\"Information from {df_name}:\\n\"\n",
    "        for col, value in row.items():\n",
    "            content += f\"{col}: {value}\\n\"\n",
    "        documents.append(Document(page_content=content))\n",
    "\n",
    "print(f\"Created {len(documents)} documents.\")"
   ]
  },
  {
   "cell_type": "markdown",
   "id": "9d0355ec-ca4e-4aee-9086-853338fc9133",
   "metadata": {},
   "source": [
    "# Creating Chunks"
   ]
  },
  {
   "cell_type": "markdown",
   "id": "474491d8-726b-415e-82eb-434e733fafb4",
   "metadata": {},
   "source": [
    "Find that answers are missing context, increase the `chunk_overlap`\n",
    "Find that the chatbot is retrieving too much irrelevant information, decrease the `chunk_size`"
   ]
  },
  {
   "cell_type": "markdown",
   "id": "d49e3e57-132b-4b69-90ce-bdda08a2adfd",
   "metadata": {},
   "source": [
    "Test one - `chunk_size` = 500, `chunk_overlap`=50"
   ]
  },
  {
   "cell_type": "markdown",
   "id": "127fbd93-87b6-45dd-9c19-2c1bc38bb275",
   "metadata": {},
   "source": [
    "`chunk_overlap` is used to retain continuity and context(history)"
   ]
  },
  {
   "cell_type": "code",
   "execution_count": 14,
   "id": "4c13f46f-0fb5-4615-91a9-0fe7d208cb27",
   "metadata": {},
   "outputs": [],
   "source": [
    "def create_chunks(extracted_data):\n",
    "    text_splitter=RecursiveCharacterTextSplitter(chunk_size=500, chunk_overlap=50)\n",
    "    text_chunks=text_splitter.split_documents(extracted_data)\n",
    "    return text_chunks"
   ]
  },
  {
   "cell_type": "code",
   "execution_count": 15,
   "id": "69a48192-60f4-4923-9f35-093a9e8e526a",
   "metadata": {},
   "outputs": [
    {
     "name": "stdout",
     "output_type": "stream",
     "text": [
      "Length of text chunks 423\n"
     ]
    }
   ],
   "source": [
    "text_chunks= create_chunks(documents)\n",
    "print(f\"Length of text chunks {len(text_chunks)}\")"
   ]
  },
  {
   "cell_type": "markdown",
   "id": "ec848953-8eb7-4bae-b818-ebca9a8100d4",
   "metadata": {},
   "source": [
    "# Creating Vector Embeddings"
   ]
  },
  {
   "cell_type": "code",
   "execution_count": 19,
   "id": "3c06c019-3d93-4a15-a706-6467ec8c4bb5",
   "metadata": {},
   "outputs": [],
   "source": [
    "def get_ve_model():\n",
    "    ve_model = HuggingFaceEmbeddings(model_name=\"sentence-transformers/all-MiniLM-L12-v2\")\n",
    "    return ve_model"
   ]
  },
  {
   "cell_type": "code",
   "execution_count": 20,
   "id": "3160591e-468c-4d41-8232-94c6eae7c896",
   "metadata": {},
   "outputs": [],
   "source": [
    "embedding_model = get_ve_model()"
   ]
  },
  {
   "cell_type": "markdown",
   "id": "785d2a2f-3f7d-4a78-aa1b-4bef53b8aa90",
   "metadata": {},
   "source": [
    "# Storing Vector Embeddings in FAISS"
   ]
  },
  {
   "cell_type": "code",
   "execution_count": 23,
   "id": "4f4f789a-4cf5-4976-99f2-186f4999848b",
   "metadata": {},
   "outputs": [],
   "source": [
    "FAISS_DB_PATH = 'FAISS Database/'\n",
    "\n",
    "db=FAISS.from_documents(text_chunks, embedding_model)\n",
    "db.save_local(FAISS_DB_PATH)"
   ]
  }
 ],
 "metadata": {
  "kernelspec": {
   "display_name": "Python 3 (ipykernel)",
   "language": "python",
   "name": "python3"
  },
  "language_info": {
   "codemirror_mode": {
    "name": "ipython",
    "version": 3
   },
   "file_extension": ".py",
   "mimetype": "text/x-python",
   "name": "python",
   "nbconvert_exporter": "python",
   "pygments_lexer": "ipython3",
   "version": "3.12.7"
  }
 },
 "nbformat": 4,
 "nbformat_minor": 5
}
