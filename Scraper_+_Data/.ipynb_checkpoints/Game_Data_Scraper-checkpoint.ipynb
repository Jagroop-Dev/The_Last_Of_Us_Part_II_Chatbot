{
 "cells": [
  {
   "cell_type": "markdown",
   "id": "dbc54d2f-b151-4065-ad51-3af6a1a4b2b2",
   "metadata": {},
   "source": [
    "## Importing libraries"
   ]
  },
  {
   "cell_type": "code",
   "execution_count": 65,
   "id": "3c424417-e03e-47e2-921a-718fd33fabac",
   "metadata": {},
   "outputs": [],
   "source": [
    "from bs4 import BeautifulSoup\n",
    "import requests\n",
    "import pandas as pd\n",
    "import numpy as np\n",
    "import re\n",
    "import csv\n",
    "\n",
    "pd.set_option('display.max_rows', None)\n",
    "pd.set_option('display.max_columns', None)"
   ]
  },
  {
   "cell_type": "code",
   "execution_count": 58,
   "id": "3ef14658-b19f-4e96-8d5f-e744349be73d",
   "metadata": {},
   "outputs": [
    {
     "data": {
      "text/plain": [
       "<Response [200]>"
      ]
     },
     "execution_count": 58,
     "metadata": {},
     "output_type": "execute_result"
    }
   ],
   "source": [
    "site = 'https://game8.co/games/Last-of-Us-2/archives/290290' # walkthrough page\n",
    "response = requests.get(site)\n",
    "response"
   ]
  },
  {
   "cell_type": "code",
   "execution_count": 59,
   "id": "525119b3-fd6b-4cbd-8df7-7ff84923eee0",
   "metadata": {},
   "outputs": [],
   "source": [
    "soup = BeautifulSoup(response.text, 'html.parser')"
   ]
  },
  {
   "cell_type": "markdown",
   "id": "939d804b-2ec8-4169-9a0d-58c5fa78594e",
   "metadata": {},
   "source": [
    "## Gets the chapter images"
   ]
  },
  {
   "cell_type": "code",
   "execution_count": 60,
   "id": "3a765bec-0eb9-40a9-8bc7-612d7348fd37",
   "metadata": {},
   "outputs": [],
   "source": [
    "def get_filtered_image_links(soup, target_names):\n",
    "    images = []\n",
    "    img_tags = soup.find_all('img')\n",
    "    \n",
    "    for img in img_tags:\n",
    "        img_url = img.get('data-src') or img.get('src')\n",
    "        \n",
    "        if img_url:\n",
    "            if img_url.startswith('//'):\n",
    "                img_url = 'https:' + img_url\n",
    "            elif img_url.startswith('/'):\n",
    "                img_url = 'https://game8.co' + img_url\n",
    "\n",
    "            alt_text = img.get('alt', '').lower()\n",
    "            \n",
    "            if any(target_name.lower() in alt_text for target_name in target_names):\n",
    "                images.append({\n",
    "                    'url': img_url,\n",
    "                    'alt': alt_text\n",
    "                })\n",
    "    \n",
    "    return images"
   ]
  },
  {
   "cell_type": "code",
   "execution_count": 91,
   "id": "4824a293-4ae9-4fff-a2db-dfc995a33169",
   "metadata": {},
   "outputs": [
    {
     "name": "stdout",
     "output_type": "stream",
     "text": [
      "{'Jackson': 'https://img.game8.co/3252676/016d74f47a69207695a8bd98faa9df04.jpeg/show', 'Seattle Day 1': 'https://img.game8.co/3252681/208e3bd72b0c4ce49f7c2ee308853d6a.jpeg/show', 'Seattle Day 2': 'https://img.game8.co/3252682/541861fadb8610c141286de7d2f98d0c.jpeg/show', 'Seattle Day 3': 'https://img.game8.co/3255016/3fb74e357dc25e5e5368f6cfb994bd54.jpeg/show', 'The Park': 'https://img.game8.co/3252680/68d10ee83ce0e2bad1b133e3aaef1019.jpeg/show', 'The Farm': 'https://img.game8.co/3252775/c195c6ace9970eb25b97e3e7dc47d8a8.png/show', 'Santa Barbara': 'https://img.game8.co/3252774/2a7f34405d54ee3b0e1ebfdecb2831d5.png/show'}\n"
     ]
    }
   ],
   "source": [
    "find_names = [\n",
    "    'Jackson', 'Seattle Day 1', 'Seattle Day 2', 'Seattle Day 3', 'The Park', \n",
    "    'The Farm', 'Santa Barbara'\n",
    "]\n",
    "\n",
    "filtered_images = get_filtered_image_links(soup, find_names)\n",
    "\n",
    "chapter_images = {}\n",
    "for image in filtered_images:\n",
    "    for chapter in find_names:\n",
    "        if chapter.lower() in image['alt']:\n",
    "            chapter_images[chapter] = image['url']\n",
    "\n",
    "print(chapter_images)"
   ]
  },
  {
   "cell_type": "markdown",
   "id": "d2a14228-7099-4d34-861e-a6938377dc03",
   "metadata": {},
   "source": [
    "## Get the chapter data and combine it with the images data to get a final CSV"
   ]
  },
  {
   "cell_type": "code",
   "execution_count": 92,
   "id": "1c661d93-c35f-4b7a-a17f-07597f65c56d",
   "metadata": {},
   "outputs": [],
   "source": [
    "chapters = soup.find_all('a', class_='list_contents')\n",
    "chapter_names = [chapter.get_text(strip=True) for chapter in chapters]\n",
    "\n",
    "base_url = \"https://game8.co\"\n",
    "sub_chapters_dict = {}\n",
    "\n",
    "chapters_header = soup.find_all('h3', class_='a-header--3')\n",
    "\n",
    "for chapter in chapters_header:\n",
    "    chapter_title = chapter.get_text(strip=True)\n",
    "    table = chapter.find_next('table', class_='a-table')\n",
    "    sub_chapters = table.find_all('td', class_='center')\n",
    "    \n",
    "    sub_chapters_list = []\n",
    "    \n",
    "    for sub_chapter in sub_chapters:\n",
    "        link = sub_chapter.find('a', class_='a-link')\n",
    "        if link:\n",
    "            sub_chapters_list.append({\n",
    "                'text': link.get_text(strip=True),\n",
    "                'url': base_url + link['href']\n",
    "            })\n",
    "    \n",
    "    sub_chapters_dict[chapter_title] = sub_chapters_list"
   ]
  },
  {
   "cell_type": "code",
   "execution_count": 93,
   "id": "52c258e5-b183-4f69-9b14-d81ecfe8420b",
   "metadata": {},
   "outputs": [
    {
     "name": "stdout",
     "output_type": "stream",
     "text": [
      "CSV file 'chapter_data.csv' created successfully!\n"
     ]
    }
   ],
   "source": [
    "csv_data = []\n",
    "\n",
    "for chapter_key in sub_chapters_dict.keys():\n",
    "    chapter_name = chapter_key.split(':')[-1].strip()\n",
    "\n",
    "    row = {\n",
    "        'Chapter Name': chapter_key,  \n",
    "        'Chapter Image': chapter_images.get(chapter_name, 'No Image Available'),  \n",
    "        'Sub-chapters': ', '.join([sub_chap['text'] for sub_chap in sub_chapters_dict.get(chapter_key, [])]),\n",
    "        'Sub-chapter URLs': ', '.join([sub_chap['url'] for sub_chap in sub_chapters_dict.get(chapter_key, [])]),\n",
    "    }\n",
    "    csv_data.append(row)\n",
    "\n",
    "\n",
    "csv_file = 'chapter_data.csv'\n",
    "\n",
    "with open(csv_file, mode='w', newline='', encoding='utf-8') as file:\n",
    "    writer = csv.DictWriter(file, fieldnames=['Chapter Name', 'Chapter Image', 'Sub-chapters', 'Sub-chapter URLs'])\n",
    "    writer.writeheader()\n",
    "    writer.writerows(csv_data)\n",
    "\n",
    "print(f\"CSV file '{csv_file}' created successfully!\")"
   ]
  },
  {
   "cell_type": "markdown",
   "id": "38922740-6036-439e-b71f-d1cf6db19c56",
   "metadata": {},
   "source": [
    "## Chapter walkthrough"
   ]
  },
  {
   "cell_type": "code",
   "execution_count": 94,
   "id": "cfd85050-0da6-4619-8656-79e661987792",
   "metadata": {},
   "outputs": [
    {
     "data": {
      "text/html": [
       "<div>\n",
       "<style scoped>\n",
       "    .dataframe tbody tr th:only-of-type {\n",
       "        vertical-align: middle;\n",
       "    }\n",
       "\n",
       "    .dataframe tbody tr th {\n",
       "        vertical-align: top;\n",
       "    }\n",
       "\n",
       "    .dataframe thead th {\n",
       "        text-align: right;\n",
       "    }\n",
       "</style>\n",
       "<table border=\"1\" class=\"dataframe\">\n",
       "  <thead>\n",
       "    <tr style=\"text-align: right;\">\n",
       "      <th></th>\n",
       "      <th>Chapter Name</th>\n",
       "      <th>Chapter Image</th>\n",
       "      <th>Sub-chapters</th>\n",
       "      <th>Sub-chapter URLs</th>\n",
       "    </tr>\n",
       "  </thead>\n",
       "  <tbody>\n",
       "    <tr>\n",
       "      <th>0</th>\n",
       "      <td>Chapter 1: Jackson</td>\n",
       "      <td>https://img.game8.co/3252676/016d74f47a6920769...</td>\n",
       "      <td>Prologue, Waking Up, The Overlook, Patrol, The...</td>\n",
       "      <td>https://game8.co/games/Last-of-Us-2/archives/2...</td>\n",
       "    </tr>\n",
       "    <tr>\n",
       "      <th>1</th>\n",
       "      <td>Chapter 2: Seattle Day 1</td>\n",
       "      <td>https://img.game8.co/3252681/208e3bd72b0c4ce49...</td>\n",
       "      <td>The Gate, Downtown, Eastbrook Elementary, Capi...</td>\n",
       "      <td>https://game8.co/games/Last-of-Us-2/archives/2...</td>\n",
       "    </tr>\n",
       "    <tr>\n",
       "      <th>2</th>\n",
       "      <td>Chapter 3: Seattle Day 2</td>\n",
       "      <td>https://img.game8.co/3252682/541861fadb8610c14...</td>\n",
       "      <td>Hillcrest, Finding Strings, The Seraphites, St...</td>\n",
       "      <td>https://game8.co/games/Last-of-Us-2/archives/2...</td>\n",
       "    </tr>\n",
       "    <tr>\n",
       "      <th>3</th>\n",
       "      <td>Chapter 4: Seattle Day 3</td>\n",
       "      <td>https://img.game8.co/3255016/3fb74e357dc25e5e5...</td>\n",
       "      <td>Road to the Aquarium, The Flooded City, Infilt...</td>\n",
       "      <td>https://game8.co/games/Last-of-Us-2/archives/2...</td>\n",
       "    </tr>\n",
       "    <tr>\n",
       "      <th>4</th>\n",
       "      <td>Chapter 5: The Park</td>\n",
       "      <td>https://img.game8.co/3252680/68d10ee83ce0e2bad...</td>\n",
       "      <td>Tracking Lesson</td>\n",
       "      <td>https://game8.co/games/Last-of-Us-2/archives/2...</td>\n",
       "    </tr>\n",
       "  </tbody>\n",
       "</table>\n",
       "</div>"
      ],
      "text/plain": [
       "               Chapter Name  \\\n",
       "0        Chapter 1: Jackson   \n",
       "1  Chapter 2: Seattle Day 1   \n",
       "2  Chapter 3: Seattle Day 2   \n",
       "3  Chapter 4: Seattle Day 3   \n",
       "4       Chapter 5: The Park   \n",
       "\n",
       "                                       Chapter Image  \\\n",
       "0  https://img.game8.co/3252676/016d74f47a6920769...   \n",
       "1  https://img.game8.co/3252681/208e3bd72b0c4ce49...   \n",
       "2  https://img.game8.co/3252682/541861fadb8610c14...   \n",
       "3  https://img.game8.co/3255016/3fb74e357dc25e5e5...   \n",
       "4  https://img.game8.co/3252680/68d10ee83ce0e2bad...   \n",
       "\n",
       "                                        Sub-chapters  \\\n",
       "0  Prologue, Waking Up, The Overlook, Patrol, The...   \n",
       "1  The Gate, Downtown, Eastbrook Elementary, Capi...   \n",
       "2  Hillcrest, Finding Strings, The Seraphites, St...   \n",
       "3  Road to the Aquarium, The Flooded City, Infilt...   \n",
       "4                                    Tracking Lesson   \n",
       "\n",
       "                                    Sub-chapter URLs  \n",
       "0  https://game8.co/games/Last-of-Us-2/archives/2...  \n",
       "1  https://game8.co/games/Last-of-Us-2/archives/2...  \n",
       "2  https://game8.co/games/Last-of-Us-2/archives/2...  \n",
       "3  https://game8.co/games/Last-of-Us-2/archives/2...  \n",
       "4  https://game8.co/games/Last-of-Us-2/archives/2...  "
      ]
     },
     "metadata": {},
     "output_type": "display_data"
    }
   ],
   "source": [
    "chapters_df = pd.read_csv('chapter_data.csv')\n",
    "display(chapters_df.head())"
   ]
  },
  {
   "cell_type": "code",
   "execution_count": 99,
   "id": "197180ec-fd6c-4cc8-9804-e94508821f7b",
   "metadata": {},
   "outputs": [
    {
     "name": "stdout",
     "output_type": "stream",
     "text": [
      "Chapter: Chapter 11: The Farm\n",
      "Sub-chapter URLs list: ['https://game8.co/games/Last-of-Us-2/archives/290846']\n"
     ]
    }
   ],
   "source": [
    "all_walkthrough_data = []\n",
    "\n",
    "for index, row in chapters_df.iterrows():\n",
    "    chapter_name = row['Chapter Name']\n",
    "    sub_chapter_urls_string = row['Sub-chapter URLs']\n",
    "    sub_chapter_urls_list = sub_chapter_urls_string.split(', ')\n",
    "\n",
    "print(f\"Chapter: {chapter_name}\")\n",
    "print(f\"Sub-chapter URLs list: {sub_chapter_urls_list}\")"
   ]
  },
  {
   "cell_type": "code",
   "execution_count": 100,
   "id": "ed96e7e5-65cd-4b3a-8b3d-6cea16f772e3",
   "metadata": {},
   "outputs": [],
   "source": [
    "all_walkthrough_data = []\n",
    "\n",
    "for index, row in chapters_df.iterrows():\n",
    "    chapter_name = row['Chapter Name']\n",
    "    sub_chapter_urls_string = row['Sub-chapter URLs']\n",
    "\n",
    "    sub_chapter_urls_list = sub_chapter_urls_string.split(', ')\n",
    "    sub_chapter_names_string = row['Sub-chapters']\n",
    "    sub_chapter_names_list = sub_chapter_names_string.split(', ')\n",
    "\n",
    "\n",
    "    for i, sub_chapter_url in enumerate(sub_chapter_urls_list):\n",
    "        try:\n",
    "            response = requests.get(sub_chapter_url)\n",
    "            response.raise_for_status()  \n",
    "\n",
    "            chapter_soup = BeautifulSoup(response.text, 'html.parser')\n",
    "\n",
    "\n",
    "            sub_chapter_tag = chapter_soup.find('h2', class_='a-header--2')\n",
    "            sub_chapter_name = sub_chapter_tag.get_text(strip=True) if sub_chapter_tag else sub_chapter_names_list[i].strip()\n",
    "\n",
    "\n",
    "            spans = chapter_soup.find_all('span', style=\"font-size:120%;\")\n",
    "            extracted_text = [span.get_text(strip=True) for span in spans]\n",
    "\n",
    "            formatted_text = []\n",
    "            if extracted_text:\n",
    "                first_item = extracted_text[0].rstrip('.')\n",
    "                formatted_text.append(first_item[0].upper() + first_item[1:].lower())\n",
    "\n",
    "                for item in extracted_text[1:]:\n",
    "                    formatted_text.append(item.lower())\n",
    "\n",
    "            # Group formatted text into lines of two\n",
    "            grouped_text = []\n",
    "            for j in range(0, len(formatted_text), 2):\n",
    "                line_items = formatted_text[j:j+2]\n",
    "                if len(line_items) > 1:\n",
    "                    grouped_text.append(\", and \".join(line_items))\n",
    "                elif line_items:\n",
    "                    grouped_text.append(line_items[0])\n",
    "\n",
    "            all_walkthrough_data.append({\n",
    "                'Chapter Name': chapter_name,\n",
    "                'Sub-chapter Name': sub_chapter_name,\n",
    "                'Sub-chapter URL': sub_chapter_url,\n",
    "                'Walkthrough Text': \"\\n\".join(grouped_text)\n",
    "            })\n",
    "\n",
    "        except requests.exceptions.RequestException as e:\n",
    "            print(f\"Error fetching {sub_chapter_url}: {e}\")\n",
    "            all_walkthrough_data.append({\n",
    "                'Chapter Name': chapter_name,\n",
    "                'Sub-chapter Name': sub_chapter_names_list[i].strip() if i < len(sub_chapter_names_list) else 'N/A',\n",
    "                'Sub-chapter URL': sub_chapter_url,\n",
    "                'Walkthrough Text': f\"Error fetching data: {e}\"\n",
    "            })\n",
    "        except Exception as e:\n",
    "            print(f\"An unexpected error occurred while processing {sub_chapter_url}: {e}\")\n",
    "            all_walkthrough_data.append({\n",
    "                'Chapter Name': chapter_name,\n",
    "                'Sub-chapter Name': sub_chapter_names_list[i].strip() if i < len(sub_chapter_names_list) else 'N/A',\n",
    "                'Sub-chapter URL': sub_chapter_url,\n",
    "                'Walkthrough Text': f\"An unexpected error occurred: {e}\"\n",
    "            })\n"
   ]
  },
  {
   "cell_type": "code",
   "execution_count": 101,
   "id": "34708ec3-ce74-43a6-add5-7d0f873d26e0",
   "metadata": {},
   "outputs": [
    {
     "data": {
      "text/html": [
       "<div>\n",
       "<style scoped>\n",
       "    .dataframe tbody tr th:only-of-type {\n",
       "        vertical-align: middle;\n",
       "    }\n",
       "\n",
       "    .dataframe tbody tr th {\n",
       "        vertical-align: top;\n",
       "    }\n",
       "\n",
       "    .dataframe thead th {\n",
       "        text-align: right;\n",
       "    }\n",
       "</style>\n",
       "<table border=\"1\" class=\"dataframe\">\n",
       "  <thead>\n",
       "    <tr style=\"text-align: right;\">\n",
       "      <th></th>\n",
       "      <th>Chapter Name</th>\n",
       "      <th>Sub-chapter Name</th>\n",
       "      <th>Sub-chapter URL</th>\n",
       "      <th>Walkthrough Text</th>\n",
       "    </tr>\n",
       "  </thead>\n",
       "  <tbody>\n",
       "    <tr>\n",
       "      <th>0</th>\n",
       "      <td>Chapter 1: Jackson</td>\n",
       "      <td>Jackson - Prologue Walkthrough</td>\n",
       "      <td>https://game8.co/games/Last-of-Us-2/archives/2...</td>\n",
       "      <td>Follow tommy all the way to town, and play the...</td>\n",
       "    </tr>\n",
       "    <tr>\n",
       "      <th>1</th>\n",
       "      <td>Chapter 1: Jackson</td>\n",
       "      <td>Jackson - Waking Up Walkthrough</td>\n",
       "      <td>https://game8.co/games/Last-of-Us-2/archives/2...</td>\n",
       "      <td>Follow jesse, and follow jesse and maria.\\nhav...</td>\n",
       "    </tr>\n",
       "    <tr>\n",
       "      <th>2</th>\n",
       "      <td>Chapter 1: Jackson</td>\n",
       "      <td>Jackson - The Overlook Walkthrough</td>\n",
       "      <td>https://game8.co/games/Last-of-Us-2/archives/2...</td>\n",
       "      <td>Follow owen, and after you and owen split up, ...</td>\n",
       "    </tr>\n",
       "    <tr>\n",
       "      <th>3</th>\n",
       "      <td>Chapter 1: Jackson</td>\n",
       "      <td>Jackson - Patrol Walkthrough</td>\n",
       "      <td>https://game8.co/games/Last-of-Us-2/archives/2...</td>\n",
       "      <td>Follow dina, and after getting off your horse,...</td>\n",
       "    </tr>\n",
       "    <tr>\n",
       "      <th>4</th>\n",
       "      <td>Chapter 1: Jackson</td>\n",
       "      <td>Jackson: The Horde Walkthrough</td>\n",
       "      <td>https://game8.co/games/Last-of-Us-2/archives/2...</td>\n",
       "      <td>Run away from the horde of infected, and follo...</td>\n",
       "    </tr>\n",
       "  </tbody>\n",
       "</table>\n",
       "</div>"
      ],
      "text/plain": [
       "         Chapter Name                    Sub-chapter Name  \\\n",
       "0  Chapter 1: Jackson      Jackson - Prologue Walkthrough   \n",
       "1  Chapter 1: Jackson     Jackson - Waking Up Walkthrough   \n",
       "2  Chapter 1: Jackson  Jackson - The Overlook Walkthrough   \n",
       "3  Chapter 1: Jackson        Jackson - Patrol Walkthrough   \n",
       "4  Chapter 1: Jackson      Jackson: The Horde Walkthrough   \n",
       "\n",
       "                                     Sub-chapter URL  \\\n",
       "0  https://game8.co/games/Last-of-Us-2/archives/2...   \n",
       "1  https://game8.co/games/Last-of-Us-2/archives/2...   \n",
       "2  https://game8.co/games/Last-of-Us-2/archives/2...   \n",
       "3  https://game8.co/games/Last-of-Us-2/archives/2...   \n",
       "4  https://game8.co/games/Last-of-Us-2/archives/2...   \n",
       "\n",
       "                                    Walkthrough Text  \n",
       "0  Follow tommy all the way to town, and play the...  \n",
       "1  Follow jesse, and follow jesse and maria.\\nhav...  \n",
       "2  Follow owen, and after you and owen split up, ...  \n",
       "3  Follow dina, and after getting off your horse,...  \n",
       "4  Run away from the horde of infected, and follo...  "
      ]
     },
     "metadata": {},
     "output_type": "display_data"
    }
   ],
   "source": [
    "walkthrough_df = pd.DataFrame(all_walkthrough_data)\n",
    "display(walkthrough_df.head())"
   ]
  },
  {
   "cell_type": "code",
   "execution_count": 102,
   "id": "f2949cfd-f28f-4f2e-8dda-ef9e9531e6e4",
   "metadata": {},
   "outputs": [
    {
     "name": "stdout",
     "output_type": "stream",
     "text": [
      "Walkthrough data with sub-chapter names saved to 'walkthrough_data_with_names.csv'\n"
     ]
    }
   ],
   "source": [
    "walkthrough_df.to_csv('walkthrough_data_with_names.csv', index=False)\n",
    "print(\"Walkthrough data with sub-chapter names saved to 'walkthrough_data_with_names.csv'\")"
   ]
  },
  {
   "cell_type": "markdown",
   "id": "94fec3cf-ef7e-4edc-90b2-e34ac532b7bb",
   "metadata": {},
   "source": [
    "## Tips and Tricks"
   ]
  },
  {
   "cell_type": "markdown",
   "id": "cfc6b9cb-a036-43b8-8824-eaac37f4001d",
   "metadata": {},
   "source": [
    "## Characters"
   ]
  },
  {
   "cell_type": "markdown",
   "id": "a217377b-53e7-4908-b75b-ac8532b4afc0",
   "metadata": {},
   "source": [
    "## Safe Codes"
   ]
  },
  {
   "cell_type": "markdown",
   "id": "c304c2f7-e9cd-4075-8950-abce5744ab86",
   "metadata": {},
   "source": [
    "## Trohpy"
   ]
  },
  {
   "cell_type": "markdown",
   "id": "d6c9d0ef-e533-4dcf-8451-4b70b61d9430",
   "metadata": {},
   "source": [
    "## Weapon Upgrades"
   ]
  },
  {
   "cell_type": "markdown",
   "id": "e05c28b0-b588-4af7-b65b-52b299864176",
   "metadata": {},
   "source": [
    "## Enemies"
   ]
  }
 ],
 "metadata": {
  "kernelspec": {
   "display_name": "Python 3 (ipykernel)",
   "language": "python",
   "name": "python3"
  },
  "language_info": {
   "codemirror_mode": {
    "name": "ipython",
    "version": 3
   },
   "file_extension": ".py",
   "mimetype": "text/x-python",
   "name": "python",
   "nbconvert_exporter": "python",
   "pygments_lexer": "ipython3",
   "version": "3.12.7"
  }
 },
 "nbformat": 4,
 "nbformat_minor": 5
}
